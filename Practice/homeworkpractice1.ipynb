{
 "metadata": {
  "language_info": {
   "codemirror_mode": {
    "name": "ipython",
    "version": 3
   },
   "file_extension": ".py",
   "mimetype": "text/x-python",
   "name": "python",
   "nbconvert_exporter": "python",
   "pygments_lexer": "ipython3",
   "version": "3.6.10-final"
  },
  "orig_nbformat": 2,
  "kernelspec": {
   "name": "python361064bitbootcampdataconda01d9129a675144b5a3c5439fdebed1ff",
   "display_name": "Python 3.6.10 64-bit ('BootCampData': conda)"
  }
 },
 "nbformat": 4,
 "nbformat_minor": 2,
 "cells": [
  {
   "cell_type": "code",
   "execution_count": 20,
   "metadata": {
    "tags": []
   },
   "outputs": [
    {
     "output_type": "stream",
     "name": "stdout",
     "text": "1926159.0  Feb-2012\nSep-2013\n"
    }
   ],
   "source": [
    "import csv\n",
    "import statistics as st \n",
    "budget_file = ('budget_data.csv') \n",
    "outfile = open('budgetoutput.txt', 'w')\n",
    "\n",
    "total_months = 0\n",
    "net_total = 0\n",
    "profit_loss_change = []\n",
    "profitlosscolumn = []\n",
    "new_month_list = []\n",
    "months_list = []\n",
    "\n",
    "\n",
    "\n",
    "with open(budget_file) as csvfile:\n",
    "    csvreader = csv.reader(csvfile, delimiter =',')\n",
    "    \n",
    "    \n",
    "    csvheader = next(csvreader)\n",
    "        \n",
    "    for row in csvreader:\n",
    "        total_months += 1\n",
    "        net_total += int(row[1])\n",
    "        profitlosscolumn.append(float(row[1]))\n",
    "        \n",
    "    \n",
    "        for i, (early_price, present_price) in enumerate(zip(profitlosscolumn, profitlosscolumn[1:])):\n",
    "            changes = float(present_price) - float(early_price)\n",
    "            profit_loss_change.append(float(changes))\n",
    "            months_list.append(row[0])\n",
    "        \n",
    "        \n",
    "\n",
    "highest = max(profit_loss_change)\n",
    "lowest = min(profit_loss_change)\n",
    "average = round(st.mean(profit_loss_change),2)\n",
    "\n",
    "best_month_index = profit_loss_change.index(highest)\n",
    "worst_month_index = profit_loss_change.index(lowest)\n",
    "\n",
    "date_of_best = months_list[best_month_index]\n",
    "print(f'{highest}  {date_of_best}')\n",
    "\n",
    "date_of_worst = months_list[worst_month_index]\n",
    "print(date_of_worst)\n",
    "\n",
    "\n",
    "\n",
    "\n",
    "\n",
    "\n",
    "        \n",
    "    \n",
    "\n",
    "\n",
    "    "
   ]
  },
  {
   "cell_type": "code",
   "execution_count": null,
   "metadata": {},
   "outputs": [],
   "source": [
    "##https://stackoverflow.com/questions/41378813/python-loop-with-next-row-values"
   ]
  }
 ]
}