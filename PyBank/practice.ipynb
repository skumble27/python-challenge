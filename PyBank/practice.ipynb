{
 "metadata": {
  "language_info": {
   "codemirror_mode": {
    "name": "ipython",
    "version": 3
   },
   "file_extension": ".py",
   "mimetype": "text/x-python",
   "name": "python",
   "nbconvert_exporter": "python",
   "pygments_lexer": "ipython3",
   "version": "3.6.10-final"
  },
  "orig_nbformat": 2,
  "kernelspec": {
   "name": "python361064bitbootcampdataconda01d9129a675144b5a3c5439fdebed1ff",
   "display_name": "Python 3.6.10 64-bit ('BootCampData': conda)"
  }
 },
 "nbformat": 4,
 "nbformat_minor": 2,
 "cells": [
  {
   "cell_type": "code",
   "execution_count": 1,
   "metadata": {
    "tags": []
   },
   "outputs": [
    {
     "output_type": "stream",
     "name": "stdout",
     "text": "Financial Analysis\n-------------------------------------\nTotal Months: 86\nTotal: $38382578\nAverage Change: $-2315.12\nGreatest Increase in Profits: Feb-12 ($1926159)\nGreatest Increase in Profits: Sep-13 ($-2196167)\n"
    }
   ],
   "source": [
    "import csv\n",
    "import statistics\n",
    "import os\n",
    "\n",
    "budget_file = ('E:/My Documents/Professional Development/Monash University Data Analytics Boot Camp/GitHubRepo/python-challenge/PyBank/Resources/budget_data.csv')\n",
    "\n",
    "outputfile = open('E:\\My Documents\\Professional Development\\Monash University Data Analytics Boot Camp\\GitHubRepo\\python-challenge\\PyBank\\Analysis\\Analysis_PyBank.txt',\"w\")\n",
    "\n",
    "##budget_file = os.path.join(\"Resources\", \"budget_data.csv\")\n",
    "\n",
    "months = []\n",
    "profit_loss = []\n",
    "profit_loss_diff = []\n",
    "month_list = []\n",
    "total_months = 0\n",
    "net_total = 0\n",
    "\n",
    "\n",
    "with open(budget_file) as csvfile:\n",
    "    csvreader = csv.reader(csvfile, delimiter = ',')\n",
    "    csvheader = next(csvreader)\n",
    "\n",
    "    for row in csvreader:\n",
    "        total_months += 1\n",
    "        net_total += int(row[1])\n",
    "        months.append(row[0])\n",
    "        profit_loss.append(row[1])\n",
    "    \n",
    "    for month in range(1,len(months)):\n",
    "        month_list.append(months[month])\n",
    "        \n",
    "        \n",
    "    \n",
    "    for i, (cur, nxt) in enumerate(zip(profit_loss, profit_loss[1:])):\n",
    "        changes = float(nxt) - float(cur)\n",
    "        profit_loss_diff.append(changes)\n",
    "    \n",
    "    \n",
    "## Calculating the Average\n",
    "average_change = round(statistics.mean(profit_loss_diff), 2)               \n",
    "## Calculating the maximum increase\n",
    "max_increase = round(int(max(profit_loss_diff)),0)\n",
    "\n",
    "## Calculating the maximum decrease\n",
    "max_decrease = round(int(min(profit_loss_diff)),0)\n",
    "\n",
    "## Referring to the month where max increase occurred\n",
    "highest_month = profit_loss_diff.index(max_increase)\n",
    "top_month = month_list[highest_month]\n",
    "\n",
    "\n",
    "## Referring to the month where max decrease occurred\n",
    "lowest_month = profit_loss_diff.index(max_decrease)\n",
    "bottom_month = month_list[lowest_month]\n",
    "\n",
    "\n",
    "## Providing an output on the Terminal\n",
    "\n",
    "print(f' Financial Analysis')\n",
    "print(f'-------------------------------------')\n",
    "print(f'Total Months: {total_months}')\n",
    "print(f'Total: ${net_total}')\n",
    "print(f'Average Change: ${average_change}')\n",
    "print(f'Greatest Increase in Profits: {top_month} (${max_increase})')\n",
    "print(f'Greatest Increase in Profits: {bottom_month} (${max_decrease})')\n",
    "\n",
    "## Writing the outcome of the Code into Text\n",
    "\n",
    "\n",
    "outputfile.write(f' Financial Analysis\\n')\n",
    "outputfile.write(f'-------------------------------------\\n')\n",
    "outputfile.write(f'Total Months: {total_months}\\n')\n",
    "outputfile.write(f'Total: ${net_total}\\n')\n",
    "outputfile.write(f'Average Change: ${average_change}\\n')\n",
    "outputfile.write(f'Greatest Increase in Profits: {top_month} (${max_increase})\\n')\n",
    "outputfile.write(f'Greatest Increase in Profits: {bottom_month} (${max_decrease})\\n')\n",
    "outputfile.close()\n"
   ]
  },
  {
   "cell_type": "code",
   "execution_count": null,
   "metadata": {},
   "outputs": [],
   "source": []
  }
 ]
}