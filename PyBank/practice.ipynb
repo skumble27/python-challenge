{
 "metadata": {
  "language_info": {
   "codemirror_mode": {
    "name": "ipython",
    "version": 3
   },
   "file_extension": ".py",
   "mimetype": "text/x-python",
   "name": "python",
   "nbconvert_exporter": "python",
   "pygments_lexer": "ipython3",
   "version": "3.6.10-final"
  },
  "orig_nbformat": 2,
  "kernelspec": {
   "name": "python361064bitbootcampdataconda01d9129a675144b5a3c5439fdebed1ff",
   "display_name": "Python 3.6.10 64-bit ('BootCampData': conda)"
  }
 },
 "nbformat": 4,
 "nbformat_minor": 2,
 "cells": [
  {
   "cell_type": "code",
   "execution_count": 4,
   "metadata": {
    "tags": []
   },
   "outputs": [
    {
     "output_type": "stream",
     "name": "stdout",
     "text": "Financial Analysis\n-------------------------------------\nTotal Months: 86\nTotal: $38382578\nAverage Change: $-2315.12\nGreatest Increase in Profits: Feb-12 ($1926159.0)\nGreatest Increase in Profits: Sep-13 ($-2196167.0)\n"
    }
   ],
   "source": [
    "import os\n",
    "import csv\n",
    "import statistics\n",
    "\n",
    "budget_file = os.path.join(\"Resources\", \"budget_data.csv\")\n",
    "output_budget_file = os.path.join(\"Analysis\", 'Analysis_PyBank.txt', 'w')\n",
    "\n",
    "months = []\n",
    "months_list_indexing = []\n",
    "profit_loss = []\n",
    "total_months = 0\n",
    "profit_loss_diff_list = []\n",
    "total_profit_loss = 0\n",
    "\n",
    "with open(budget_file) as csvfile:\n",
    "    csvreader = csv.reader(csvfile, delimiter =',')\n",
    "\n",
    "    csvheader = next(csvreader)\n",
    "\n",
    "    for row in csvreader:\n",
    "        months.append(row[0])\n",
    "        total_profit_loss += int(row[1])\n",
    "        total_months += 1\n",
    "        profit_loss.append(row[1])\n",
    "        \n",
    "\n",
    "    ## This new list will be required when we want to find the month        that had the highest and lowest profit-loss change\n",
    "    \n",
    "    for month in range(1,len(months)):\n",
    "        months_list_indexing.append(months[month])\n",
    "\n",
    "    ## In this code, the difference of values from the current and          previous months will be calcuated and appended to a new list\n",
    "\n",
    "    for i, (pastmnth, presmnth) in enumerate(zip(profit_loss, profit_loss[1:])):\n",
    "        changes = float(presmnth) - float(pastmnth)\n",
    "        profit_loss_diff_list.append(changes)\n",
    "\n",
    "## Calculating the average change in profit and loss\n",
    "average_change = statistics.mean(profit_loss_diff_list)\n",
    "\n",
    "maximum_increase_profit = max(profit_loss_diff_list)\n",
    "maximum_decrease_profit = min(profit_loss_diff_list)\n",
    "\n",
    "month_max = profit_loss_diff_list.index(maximum_increase_profit)\n",
    "month_max = months_list_indexing[month_max]\n",
    "\n",
    "month_min = profit_loss_diff_list.index(maximum_decrease_profit)\n",
    "month_min = months_list_indexing[month_min]\n",
    "\n",
    "\n",
    "## Providing an output to the terminal\n",
    "print(f' Financial Analysis')\n",
    "print(f'-------------------------------------')\n",
    "print(f'Total Months: {total_months}')\n",
    "print(f'Total: ${total_profit_loss}')\n",
    "print(f'Average Change: ${round(average_change,2)}')\n",
    "print(f'Greatest Increase in Profits: {month_max} (${maximum_increase_profit})')\n",
    "print(f'Greatest Increase in Profits: {month_min} (${maximum_decrease_profit})')\n",
    "   \n"
   ]
  },
  {
   "cell_type": "code",
   "execution_count": null,
   "metadata": {},
   "outputs": [],
   "source": []
  }
 ]
}