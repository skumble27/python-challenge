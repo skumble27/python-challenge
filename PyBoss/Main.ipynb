{
 "metadata": {
  "language_info": {
   "codemirror_mode": {
    "name": "ipython",
    "version": 3
   },
   "file_extension": ".py",
   "mimetype": "text/x-python",
   "name": "python",
   "nbconvert_exporter": "python",
   "pygments_lexer": "ipython3",
   "version": "3.6.12-final"
  },
  "orig_nbformat": 2,
  "kernelspec": {
   "name": "python361064bitbootcampdataconda01d9129a675144b5a3c5439fdebed1ff",
   "display_name": "Python 3.6.10 64-bit ('BootCampData': conda)"
  }
 },
 "nbformat": 4,
 "nbformat_minor": 2,
 "cells": [
  {
   "source": [
    "## Importing the relevant modules\n",
    "import os\n",
    "import csv\n",
    "import us_state_abbrev as usabr\n",
    "import datetime\n",
    "\n",
    "## Changing the terminal directory to the location to the location of the main python script\n",
    "## --> Use this for the python script os.chdir(os.path.dirname(__file__))\n",
    "\n",
    "## Creating the file paths\n",
    "py_boss_file = os.path.join(\"Resources\", \"employee_data.csv\")\n",
    "\n",
    "py_boss_output_file = os.path.join(\"Cleaned_file\",\"cleaned_employee_data.csv\")\n",
    "\n",
    "## Creating empty lists in which to store relevant information\n",
    "emp_ID_list = []\n",
    "first_name_list = []\n",
    "last_name_list = []\n",
    "corrected_DOB_list = []\n",
    "SSN_list = []\n",
    "state_list = []\n"
   ],
   "cell_type": "code",
   "metadata": {
    "tags": []
   },
   "execution_count": 7,
   "outputs": []
  },
  {
   "cell_type": "code",
   "execution_count": 12,
   "metadata": {},
   "outputs": [],
   "source": [
    "## Opening the CSV File as DictReader to clean the data set \n",
    "with open(py_boss_file) as csvfile:\n",
    "    \n",
    "    # CSV File being open as a DictReader\n",
    "    csvreader = csv.DictReader(csvfile)\n",
    "\n",
    "    for row in csvreader:\n",
    "        emp_ID_list = emp_ID_list + [row[\"Emp ID\"]]\n",
    "\n",
    "        ## Need to create a seperate list that contains the names that\n",
    "        # are seperated as first and second name\n",
    "\n",
    "        # Name are being split with the space as a parameter\n",
    "        name_split = row[\"Name\"].split(\" \")\n",
    "\n",
    "        # Appending the first and last name into different lists\n",
    "        first_name_list = first_name_list + [name_split[0]]\n",
    "        last_name_list = last_name_list + [name_split[1]]\n",
    "\n",
    "        # Reformatting the date time by replacing \"-\" with \"/\"\n",
    "        # Reading the \"DOB\" as dates\n",
    "        corrected_DOB_list = datetime.datetime.strptime(row[\"DOB\"], \"%Y-%m-%d\")\n",
    "        corrected_DOB_list = corrected_DOB_list.strftime(\"%m/%d/%Y\")\n",
    "\n"
   ]
  },
  {
   "cell_type": "code",
   "execution_count": 13,
   "metadata": {
    "tags": []
   },
   "outputs": [
    {
     "output_type": "stream",
     "name": "stdout",
     "text": "01/13/1982\n"
    }
   ],
   "source": []
  },
  {
   "cell_type": "code",
   "execution_count": null,
   "metadata": {},
   "outputs": [],
   "source": []
  }
 ]
}