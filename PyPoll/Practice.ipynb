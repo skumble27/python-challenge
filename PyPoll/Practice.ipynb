{
 "metadata": {
  "language_info": {
   "codemirror_mode": {
    "name": "ipython",
    "version": 3
   },
   "file_extension": ".py",
   "mimetype": "text/x-python",
   "name": "python",
   "nbconvert_exporter": "python",
   "pygments_lexer": "ipython3",
   "version": "3.6.10-final"
  },
  "orig_nbformat": 2,
  "kernelspec": {
   "name": "python361064bitbootcampdataconda01d9129a675144b5a3c5439fdebed1ff",
   "display_name": "Python 3.6.10 64-bit ('BootCampData': conda)"
  }
 },
 "nbformat": 4,
 "nbformat_minor": 2,
 "cells": [
  {
   "cell_type": "code",
   "execution_count": 15,
   "metadata": {
    "tags": []
   },
   "outputs": [],
   "source": [
    "import os\n",
    "import csv\n",
    "import statistics\n",
    "from collections import Counter\n",
    "\n",
    "pypollfile = os.path.join(\"Resources\",\"election_data.csv\")\n",
    "outputfile = os.path.join(\"Analysis\", \"Analysis_PyPoll.txt\")\n",
    "\n",
    "total_votes = 0\n",
    "candidate_tally_raw = []\n",
    "candidate_list_count = []\n",
    "\n",
    "with open(pypollfile) as csvfile:\n",
    "    csvreader = csv.reader(csvfile, delimiter=',')\n",
    "\n",
    "    csvheader = next(csvreader)\n",
    "\n",
    "    for row in csvreader:\n",
    "        total_votes += 1\n",
    "        candidate_tally_raw.append(row[2])\n",
    "## You could use a dictionary to analyse\n",
    "\n",
    "## Dictionary helps to loop through the keys\n",
    "candidate_list_count = dict(Counter(candidate_tally_raw)) \n",
    "\n",
    "##Will give the value back for the key\n",
    "top_rank = candidate_list_count[list(candidate_list_count.keys())[0]]\n",
    "second_rank = candidate_list_count[list(candidate_list_count.keys())[1]]\n",
    "third_rank = candidate_list_count[list(candidate_list_count.keys())[2]]\n",
    "fourth_rank = candidate_list_count[list(candidate_list_count.keys())[3]]\n",
    "\n",
    "## Providing the specific name back\n",
    "top_rank_name = list(candidate_list_count.keys())[0] \n",
    "second_rank_name = list(candidate_list_count.keys())[1]\n",
    "third_rank_name = list(candidate_list_count.keys())[2]\n",
    "fourth_rank_name = list(candidate_list_count.keys())[3]\n",
    "\n",
    "## Writing the file into  a text\n",
    "\n",
    "with open(outputfile, 'w') as datafile:\n",
    "    datafile.write(f'Election Results\\n')\n",
    "    datafile.write(f'---------------------------------\\n')\n",
    "    datafile.write(f'Total Votes: {total_votes}\\n')\n",
    "    datafile.write(f'{top_rank_name}: {round(100*(top_rank/total_votes),3)}% ({top_rank})\\n')\n",
    "    datafile.close()\n",
    "\n",
    " \n",
    "\n",
    "\n"
   ]
  }
 ]
}